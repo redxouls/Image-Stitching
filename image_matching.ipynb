{
  "cells": [
    {
      "cell_type": "code",
      "execution_count": 72,
      "metadata": {
        "colab": {
          "base_uri": "https://localhost:8080/"
        },
        "id": "Snh6nxFAlpV1",
        "outputId": "d1be3f87-d490-4421-b024-4b2eaf06f68a"
      },
      "outputs": [
        {
          "output_type": "stream",
          "name": "stdout",
          "text": [
            "Requirement already satisfied: opencv-python==3.4.2.17 in /usr/local/lib/python3.7/dist-packages (3.4.2.17)\n",
            "Requirement already satisfied: numpy>=1.14.5 in /usr/local/lib/python3.7/dist-packages (from opencv-python==3.4.2.17) (1.21.6)\n",
            "Requirement already satisfied: opencv-contrib-python==3.4.2.17 in /usr/local/lib/python3.7/dist-packages (3.4.2.17)\n",
            "Requirement already satisfied: numpy>=1.14.5 in /usr/local/lib/python3.7/dist-packages (from opencv-contrib-python==3.4.2.17) (1.21.6)\n",
            "--2022-04-28 14:24:24--  https://www.dropbox.com/s/yuwtdti59gucs0t/input_img.zip?dl=1\n",
            "Resolving www.dropbox.com (www.dropbox.com)... 162.125.5.18, 2620:100:601d:18::a27d:512\n",
            "Connecting to www.dropbox.com (www.dropbox.com)|162.125.5.18|:443... connected.\n",
            "HTTP request sent, awaiting response... 301 Moved Permanently\n",
            "Location: /s/dl/yuwtdti59gucs0t/input_img.zip [following]\n",
            "--2022-04-28 14:24:24--  https://www.dropbox.com/s/dl/yuwtdti59gucs0t/input_img.zip\n",
            "Reusing existing connection to www.dropbox.com:443.\n",
            "HTTP request sent, awaiting response... 302 Found\n",
            "Location: https://ucb0b2efaba11f9e2da6ff71f7d6.dl.dropboxusercontent.com/cd/0/get/BkS7_0ZCdbxDC1MWutQfFAtjiSIhH0hQrU6d99yvq73292GWq0DIEwEnTCFJNun7JVoaTY93Zc6Yg8nWdcVzaOsDhnPHxfkad6Yxp2-N5CiprjlWDwUHLAW-BtO3Qm1dboE8XMDCTrkpP7eMdPxaG4bKbegqKHBY8ppohjwoChF9d1docjo4RNGnXsTTRfhJLY8/file?dl=1# [following]\n",
            "--2022-04-28 14:24:25--  https://ucb0b2efaba11f9e2da6ff71f7d6.dl.dropboxusercontent.com/cd/0/get/BkS7_0ZCdbxDC1MWutQfFAtjiSIhH0hQrU6d99yvq73292GWq0DIEwEnTCFJNun7JVoaTY93Zc6Yg8nWdcVzaOsDhnPHxfkad6Yxp2-N5CiprjlWDwUHLAW-BtO3Qm1dboE8XMDCTrkpP7eMdPxaG4bKbegqKHBY8ppohjwoChF9d1docjo4RNGnXsTTRfhJLY8/file?dl=1\n",
            "Resolving ucb0b2efaba11f9e2da6ff71f7d6.dl.dropboxusercontent.com (ucb0b2efaba11f9e2da6ff71f7d6.dl.dropboxusercontent.com)... 162.125.5.15, 2620:100:601d:15::a27d:50f\n",
            "Connecting to ucb0b2efaba11f9e2da6ff71f7d6.dl.dropboxusercontent.com (ucb0b2efaba11f9e2da6ff71f7d6.dl.dropboxusercontent.com)|162.125.5.15|:443... connected.\n",
            "HTTP request sent, awaiting response... 200 OK\n",
            "Length: 98728590 (94M) [application/binary]\n",
            "Saving to: ‘input_img.zip’\n",
            "\n",
            "input_img.zip       100%[===================>]  94.15M  27.0MB/s    in 3.6s    \n",
            "\n",
            "2022-04-28 14:24:29 (26.2 MB/s) - ‘input_img.zip’ saved [98728590/98728590]\n",
            "\n",
            "Archive:  input_img.zip\n",
            "  inflating: input_img/DSC03172.jpg  \n",
            "  inflating: input_img/DSC03173.jpg  \n",
            "  inflating: input_img/DSC03174.jpg  \n",
            "  inflating: input_img/DSC03175.jpg  \n",
            "  inflating: input_img/DSC03176.jpg  \n",
            "  inflating: input_img/DSC03177.jpg  \n",
            "  inflating: input_img/DSC03178.jpg  \n",
            "  inflating: input_img/DSC03179.jpg  \n",
            "  inflating: input_img/DSC03180.jpg  \n",
            "  inflating: input_img/DSC03181.jpg  \n",
            "  inflating: input_img/DSC03182.jpg  \n",
            "  inflating: input_img/pano.txt      \n"
          ]
        }
      ],
      "source": [
        "!pip install opencv-python==3.4.2.17\n",
        "!pip install opencv-contrib-python==3.4.2.17\n",
        "\n",
        "# !wget -O selected.zip https://www.dropbox.com/s/ow1delunc6sb5if/selected.zip?dl=1\n",
        "# !unzip selected.zip\n",
        "# !wget -O parrington.zip https://www.dropbox.com/s/aa59g3j160e0qec/parrington.zip?dl=1\n",
        "# !unzip parrington.zip\n",
        "!wget -O input_img.zip https://www.dropbox.com/s/yuwtdti59gucs0t/input_img.zip?dl=1\n",
        "!unzip input_img.zip"
      ]
    },
    {
      "cell_type": "code",
      "execution_count": 91,
      "metadata": {
        "id": "DrQ4NrOelXf9"
      },
      "outputs": [],
      "source": [
        "import os\n",
        "import numpy as np\n",
        "import cv2 as cv\n",
        "from scipy.spatial import KDTree\n",
        "import random\n",
        "from matplotlib import pyplot as plt\n",
        "import glob\n",
        "from PIL import Image\n",
        "from tqdm import tqdm"
      ]
    },
    {
      "cell_type": "code",
      "source": [
        "def SIFT(img):\n",
        "  gray = cv.cvtColor(img, cv.COLOR_BGR2GRAY)\n",
        "  sift = cv.xfeatures2d.SIFT_create()\n",
        "  k, d = sift.detectAndCompute(gray, None)\n",
        "  d = np.array(d)\n",
        "  return k, d"
      ],
      "metadata": {
        "id": "t-NrrzAsCv2s"
      },
      "execution_count": 92,
      "outputs": []
    },
    {
      "cell_type": "code",
      "source": [
        "def cylindrical_warp(src, f):\n",
        "  map_x = np.zeros((src.shape[0], src.shape[1]), dtype=np.float32)\n",
        "  map_y = np.zeros((src.shape[0], src.shape[1]), dtype=np.float32)\n",
        "  c = [ src.shape[0] / 2.0, src.shape[1] / 2.0 ]\n",
        "  f2 = f ** 2\n",
        "  for i in range(src.shape[0]):\n",
        "    for j in range(src.shape[1]):\n",
        "      map_x[i][j] = f * np.tan( 1.0 * (j - c[1]) / f ) + c[1]\n",
        "      map_y[i][j] = 1.0 * (i - c[0]) / f * np.sqrt( (map_x[i][j] - c[1])**2 + f2 ) + c[0]\n",
        "  warp = cv.remap(src, map_x, map_y, cv.INTER_LINEAR,\tborderMode = cv.BORDER_CONSTANT)\n",
        "  cutoff = [0, src.shape[1] - 1]\n",
        "  black = np.zeros(3)  # Black pixel.\n",
        "  while np.array_equal(warp[ int(warp.shape[0]/2), cutoff[0] ], black):\n",
        "    cutoff[0] += 1\n",
        "  while np.array_equal(warp[ int(warp.shape[0]/2), cutoff[1] ], black):\n",
        "    cutoff[1] -= 1\n",
        "  warp = warp[ :, cutoff[0]+2 : cutoff[1]-1 ]\n",
        "  \n",
        "  return warp"
      ],
      "metadata": {
        "id": "Akan0hNf4YCI"
      },
      "execution_count": 93,
      "outputs": []
    },
    {
      "cell_type": "code",
      "execution_count": 94,
      "metadata": {
        "id": "_IlHX8JXqNMj"
      },
      "outputs": [],
      "source": [
        "def match_feat(kp_tar, des_tar, kp_src, des_src):\n",
        "  print(\"matching feature\")\n",
        "  tree = [KDTree(des_tar), KDTree(des_src)]\n",
        "  match = [[], []]\n",
        "  \n",
        "  for point in des_src:\n",
        "    dist0, ind0 = tree[0].query(point, k=2)\n",
        "    if dist0[0] / dist0[1] > 0.5:\n",
        "      continue\n",
        "    dist0, ind0 = dist0[0], ind0[0]\n",
        "    dist1, ind1 = tree[1].query(des_tar[ind0], k=1)\n",
        "    if des_src[ind1][0] == point[0] and des_src[ind1][1] == point[1]:\n",
        "      match[0].append( kp_tar[ind0].pt )\n",
        "      match[1].append( kp_src[ind1].pt )\n",
        "  # print(\"matching feature #\", len(match[1]))\n",
        "  # for i in (0,1):\n",
        "  #   cv.drawKeypoints(img[i], match[i], img[i])\n",
        "  #   cv.imwrite('sift_keypoints'+ str(i) +'.jpg', img[i])\n",
        "  return np.array(match[0]), np.array(match[1])\n",
        "\n",
        "# p1, p2 = match_feat(kp[15:17], des[15:17])"
      ]
    },
    {
      "cell_type": "code",
      "execution_count": 95,
      "metadata": {
        "id": "Uu7gqm5yq0VI"
      },
      "outputs": [],
      "source": [
        "def plot_matches(p1, p2, total_img):\n",
        "    match_img = total_img.copy()\n",
        "    offset = total_img.shape[1]/2\n",
        "    fig, ax = plt.subplots()\n",
        "    ax.set_aspect('equal')\n",
        "    ax.imshow(np.array(match_img).astype('uint8')) #　RGB is integer type\n",
        "    \n",
        "    ax.plot(p1[:, 0], p1[:, 1], 'xr')\n",
        "    ax.plot(p2[:, 0] + offset, p2[:, 1], 'xr')\n",
        "     \n",
        "    ax.plot([p1[:, 0], p2[:, 0] + offset], [p1[:, 1], p2[:, 1]],\n",
        "            'r', linewidth=0.1)\n",
        "\n",
        "    plt.show()\n",
        "\n",
        "# total_img = np.concatenate((img[16], img[15]), axis=1)\n",
        "# plot_matches(p2, p1, total_img)"
      ]
    },
    {
      "cell_type": "code",
      "execution_count": 96,
      "metadata": {
        "id": "68le3sxxXS9v"
      },
      "outputs": [],
      "source": [
        "def homography(p1, p2):\n",
        "  rows = []\n",
        "  for a, b in zip(p1, p2):\n",
        "    row1 = [0, 0, 0, b[0], b[1], 1, -a[1]*b[0], -a[1]*b[1], -a[1]]\n",
        "    row2 = [b[0], b[1], 1, 0, 0, 0, -a[0]*b[0], -a[0]*b[1], -a[0]]\n",
        "    rows.append(row1)\n",
        "    rows.append(row2)\n",
        "  rows = np.array(rows)\n",
        "  U, s, V = np.linalg.svd(rows)\n",
        "  H = V[-1].reshape(3, 3)\n",
        "  H = H/H[2, 2] # standardize to let w*H[2,2] = 1\n",
        "  return H\n",
        "def cylin_affine(p1, p2):\n",
        "  A = np.zeros( (p1.shape[0] * 2, 6) )\n",
        "  B = np.zeros( (p1.shape[0] * 2, 1) )\n",
        "  ind = 0\n",
        "  A_rows = []\n",
        "  B_rows = []\n",
        "  for a, b in zip(p1, p2):\n",
        "    row1 = [1, 0, b[0], b[1], 0, 0]\n",
        "    row2 = [0, 1, 0, 0, b[0], b[1]]\n",
        "    A_rows.append(row1)\n",
        "    A_rows.append(row2)\n",
        "    B_rows.append( [a[0]] )\n",
        "    B_rows.append( [a[1]] )\n",
        "  A = np.array(A_rows)\n",
        "  B = np.array(B_rows)\n",
        "  cyl_aff , _, _, _ = np.linalg.lstsq(A, B, rcond=-1)\n",
        "  cyl_aff = np.array( [[ cyl_aff[2], cyl_aff[3], cyl_aff[0] ], [ cyl_aff[4], cyl_aff[5], cyl_aff[1]]] ).squeeze()\n",
        "  return cyl_aff\n",
        "\n",
        "def ransac(tar, src, thresh = 0.5, k = 3, iter = 3000, method = \"affine\"):\n",
        "  print(\"Ransac\")\n",
        "  max_match = 0\n",
        "  all_match = []\n",
        "  best_match_pairs = [[], []]\n",
        "  best_trans = None\n",
        "  for i in range(iter):\n",
        "    match = 0\n",
        "    match_pairs = [[],[]]\n",
        "    sam = random.sample( range(src.shape[0]), k )\n",
        "\n",
        "    if method == \"homography\":\n",
        "      H = homography( tar[sam], src[sam] )\n",
        "    elif method == \"affine\":\n",
        "      A = cylin_affine( tar[sam], src[sam] )\n",
        "\n",
        "    # # check rank \n",
        "    # if np.linalg.matrix_rank(H) < 3:\n",
        "    #   continue\n",
        "    for i in range(src.shape[0]):\n",
        "      p = np.append(src[i], 1)\n",
        "      if method == \"homography\":\n",
        "        pred = np.dot(H, p)\n",
        "        pred = np.array( [ pred[0]/pred[2], pred[1]/pred[2] ])\n",
        "      elif method == \"affine\":\n",
        "        pred = np.dot(A, p)\n",
        "      # print(pred)\n",
        "      if np.linalg.norm(pred - tar[i], ord = 2) < thresh:\n",
        "        match += 1\n",
        "        match_pairs[0].append(tar[i])\n",
        "        match_pairs[1].append(src[i])\n",
        "    all_match.append(match)\n",
        "    if match > max_match:\n",
        "      max_match = match\n",
        "      best_match_pairs = match_pairs\n",
        "      if method == \"homography\":\n",
        "        best_trans = H.copy()\n",
        "      elif method == \"affine\":\n",
        "        best_trans = A.copy()\n",
        "    \n",
        "  print(\"Inliers / Total pairs:\", max_match, \"/\", src.shape[0], \"(\", max_match/src.shape[0], \")\")\n",
        "  # print(sorted(all_match, reverse=True))\n",
        "  return best_trans, np.array(best_match_pairs)\n",
        "\n",
        "# A, pairs = ransac(p2, p1)\n",
        "\n",
        "# total_img = np.concatenate((img[16], img[15]), axis=1)\n",
        "# plot_matches(pairs[0], pairs[1], total_img)"
      ]
    },
    {
      "cell_type": "code",
      "source": [
        "def stitch_img(img1, img2, trans):\n",
        "  print(\"Stitching image\")\n",
        "  # stitch img2 to img1\n",
        "  # img1 = cv.normalize(img1.astype('float'), None, 0.0, 1.0, cv.NORM_MINMAX)\n",
        "  # img2 = cv.normalize(img2.astype('float'), None, 0.0, 1.0, cv.NORM_MINMAX)\n",
        "  corners = np.array([[0, 0, 1], [0, img2.shape[0], 1], [img2.shape[1], 0, 1], [img2.shape[1], img2.shape[0], 1]]).T\n",
        "  # print(corners)\n",
        "\n",
        "  # find corners of the warped image\n",
        "  mapped_corners = np.dot(trans, corners).T.astype(\"int32\")\n",
        "  # mapped_corners = mapped_corners / mapped_corners[2, :]\n",
        "  # mapped_corners = mapped_corners[:-1, :].T.astype(\"int32\")\n",
        "  # print(mapped_corners)\n",
        "\n",
        "  # shift the warpped image downwards if the transformed y coordinate is a negative value\n",
        "  min_v = min(0, min(mapped_corners[:, 1]))\n",
        "  max_v = max(img1.shape[0], max(mapped_corners[:, 1]))\n",
        "  max_h = max(img1.shape[1], max(mapped_corners[:, 0]))\n",
        "  \n",
        "  mapped_h = [ min(mapped_corners[:, 0]), max(mapped_corners[:, 0]) ]\n",
        "  mapped_v = [ min(mapped_corners[:, 1]) - min_v, max(mapped_corners[:, 1]) - min_v ]\n",
        "\n",
        "  trans_new = trans.copy()\n",
        "  trans_new[1, 2] += abs(min_v)\n",
        "  \n",
        "  # shift the base image downwards if the transformed y coordinate is a negative value\n",
        "  top_pad = np.zeros( ( abs(min_v), img1.shape[1], 3 ) )\n",
        "  bot_pad = np.zeros( ( max_v - img1.shape[0], img1.shape[1], 3 ) )\n",
        "  right_pad = np.zeros( ( max_v - min_v, max_h - img1.shape[1], 3) )\n",
        "  # print(top_pad.shape, bot_pad.shape)\n",
        "\n",
        "  warped_l = np.concatenate( (top_pad, img1, bot_pad), axis=0 )\n",
        "  warped_l = np.concatenate( (warped_l, right_pad), axis=1 ).astype('uint32')\n",
        "  # print(warped_l.shape)\n",
        "  # cv.imwrite('warped_l.jpg', np.array(warped_l))\n",
        "\n",
        "  w, h = max_h, max_v - min_v\n",
        "  # warped = cv.warpPerspective(src = img2, M = trans_new, dsize = ( w, h ) )\n",
        "  warped_r = cv.warpAffine(src = img2, M = trans_new, dsize = (w, h)).astype('uint32')\n",
        "\n",
        "  weight = np.zeros( (h, mapped_h[1]) )\n",
        "  black = np.zeros(3)  # Black pixel.\n",
        "\n",
        "  # clean up horizontal edges from affine transform\n",
        "  for j in range(mapped_h[0], img1.shape[1]):\n",
        "    u, d = mapped_v[0], mapped_v[1]-1\n",
        "    while u < mapped_v[1]-4 and np.array_equal(warped_r[ u, j ], black):\n",
        "      u += 1\n",
        "    while d > mapped_v[0]+3 and np.array_equal(warped_r[ d, j ], black):\n",
        "      d -= 1\n",
        "    for offset in range(3):\n",
        "      warped_r[u + offset, j] = black\n",
        "      warped_r[d - offset, j] = black\n",
        "\n",
        "  # clean up vertical edges from affine transform and define weight (for blending)\n",
        "  for i in range( mapped_v[0], mapped_v[1] ):\n",
        "    l, r = mapped_h[0], mapped_h[1]-1\n",
        "    while l < mapped_h[1]-4 and np.array_equal(warped_r[ i, l ], black):\n",
        "      l += 1\n",
        "    while r > mapped_h[0]+3 and np.array_equal(warped_r[ i, r ], black):\n",
        "      r -= 1\n",
        "    for offset in range(3):\n",
        "      warped_r[i, l + offset] = black\n",
        "      warped_r[i, r - offset] = black\n",
        "    \n",
        "    img1_r = img1.shape[1] - 1\n",
        "    while img1_r > l+4 and np.array_equal(warped_l[ i, img1_r ], black):\n",
        "      img1_r -= 1\n",
        "\n",
        "    if img1_r - (l+4) < 0:\n",
        "      continue\n",
        "    interval = 1.0 / (img1_r - (l+4) + 2)\n",
        "    ind = 1\n",
        "    for j in range(l+4, img1_r+1):\n",
        "      weight[i, j] = ind * interval\n",
        "      ind += 1\n",
        "\n",
        "  # print(warped_r.shape)\n",
        "  # fig, ax = plt.subplots()\n",
        "  # ax.imshow(np.array(warped_r))\n",
        "  \n",
        "  # cv.imwrite('warped_r.jpg', np.array(warped_r))\n",
        "\n",
        "  # Stitching procedure, store results in warped_l.\n",
        "  for i in range( mapped_v[0], mapped_v[1] ):\n",
        "      for j in range( mapped_h[0], mapped_h[1] ):\n",
        "          pixel_l = warped_l[i, j, :]\n",
        "          pixel_r = warped_r[i, j, :]\n",
        "          \n",
        "          if not np.array_equal(pixel_l, black) and np.array_equal(pixel_r, black):\n",
        "              warped_l[i, j, :] = pixel_l\n",
        "          elif np.array_equal(pixel_l, black) and not np.array_equal(pixel_r, black):\n",
        "              warped_l[i, j, :] = pixel_r\n",
        "          elif not np.array_equal(pixel_l, black) and not np.array_equal(pixel_r, black):\n",
        "              warped_l[i, j, :] = pixel_l * (1-weight[i,j]) + pixel_r * weight[i,j]\n",
        "          else:\n",
        "              pass\n",
        "                \n",
        "  stitch_image = warped_l[:warped_r.shape[0], :warped_r.shape[1], :].astype(\"uint8\")\n",
        "  return stitch_image, warped_r.astype(\"uint8\")\n",
        "\n",
        "# stitched = stitch_img(img[16], img[15], A)\n",
        "# plt.imshow(stitched)"
      ],
      "metadata": {
        "id": "GRMa6Vct3hbG"
      },
      "execution_count": 116,
      "outputs": []
    },
    {
      "cell_type": "code",
      "source": [
        "fns = sorted(glob.glob(os.path.join(\"input_img\",\"*.jpg\")))\n",
        "print(fns)\n",
        "img = []\n",
        "kp, des = [], []\n",
        "pre, cur = None, None\n",
        "\n",
        "img = cv.imread(fns[0])\n",
        "resize_ratio = 8\n",
        "dim = ( img.shape[0] // resize_ratio, img.shape[1] // resize_ratio )\n",
        "print(\"Resized dimension:\", dim)\n",
        "\n",
        "# assume we can get the focal length estimate\n",
        "focal = []\n",
        "with open(os.path.join(\"input_img\", \"pano.txt\")) as f:\n",
        "  ind = 1\n",
        "  for line in f:\n",
        "    if ind % 13 == 12:\n",
        "      focal.append(float(line))\n",
        "    ind += 1\n",
        "\n",
        "# focal = [f/resize_ratio for f in focal]\n",
        "\n",
        "print(\"focal lengths:\", focal)\n",
        "\n",
        "class Partial_img:\n",
        "  def __init__(self, img = None, kp = None, des = None):\n",
        "    self.img = img\n",
        "    self.kp = kp\n",
        "    self.des = des\n",
        "panorama = None\n",
        "for i in tqdm(range(len(fns))):\n",
        "  img = cv.resize(cv.imread(fns[i]), (dim[1], dim[0]))\n",
        "  # img = cv.imread(fns[i])\n",
        "  img = cylindrical_warp(img, focal[i])\n",
        "  k, d = SIFT(img)\n",
        "\n",
        "  cur = Partial_img(img, k, d)\n",
        "  print( fns[i], \"keypoint num:\", len(k))\n",
        "  if i == 0:\n",
        "    panorama = cur.img\n",
        "    pre, cur = cur, None\n",
        "    continue\n",
        "  p_pre, p_cur = match_feat(pre.kp, pre.des, cur.kp, cur.des)\n",
        "  A, pairs = ransac(p_pre, p_cur)\n",
        "\n",
        "  panorama, cur_img = stitch_img(panorama, cur.img, A)\n",
        "  cur.img = cur_img\n",
        "  cur.kp, cur.des = SIFT(cur_img)\n",
        "\n",
        "  cv.imwrite('panorama.jpg', panorama)\n",
        "\n",
        "  pre, cur = cur, None\n",
        "\n",
        "plt.imshow(panorama)\n"
      ],
      "metadata": {
        "colab": {
          "base_uri": "https://localhost:8080/",
          "height": 1000
        },
        "id": "uNo8LaKW3hyp",
        "outputId": "ef9a47d0-1f56-4077-bde2-b3ed195af920"
      },
      "execution_count": 117,
      "outputs": [
        {
          "output_type": "stream",
          "name": "stdout",
          "text": [
            "['input_img/DSC03172.jpg', 'input_img/DSC03173.jpg', 'input_img/DSC03174.jpg', 'input_img/DSC03175.jpg', 'input_img/DSC03176.jpg', 'input_img/DSC03177.jpg', 'input_img/DSC03178.jpg', 'input_img/DSC03179.jpg', 'input_img/DSC03180.jpg', 'input_img/DSC03181.jpg', 'input_img/DSC03182.jpg']\n",
            "Resized dimension: (994, 663)\n",
            "focal lengths: [2103.57, 2101.23, 2100.05, 2098.24, 2096.4, 2095.12, 2092.93, 2090.2, 2084.74, 2081.86, 2105.32]\n"
          ]
        },
        {
          "output_type": "stream",
          "name": "stderr",
          "text": [
            "  9%|▉         | 1/11 [00:05<00:59,  5.92s/it]"
          ]
        },
        {
          "output_type": "stream",
          "name": "stdout",
          "text": [
            "input_img/DSC03172.jpg keypoint num: 1552\n",
            "input_img/DSC03173.jpg keypoint num: 1469\n",
            "matching feature\n",
            "Ransac\n",
            "Inliers / Total pairs: 144 / 198 ( 0.7272727272727273 )\n",
            "Stitching image\n"
          ]
        },
        {
          "output_type": "stream",
          "name": "stderr",
          "text": [
            "\r 18%|█▊        | 2/11 [01:02<05:20, 35.61s/it]"
          ]
        },
        {
          "output_type": "stream",
          "name": "stdout",
          "text": [
            "input_img/DSC03174.jpg keypoint num: 1823\n",
            "matching feature\n",
            "Ransac\n",
            "Inliers / Total pairs: 121 / 180 ( 0.6722222222222223 )\n",
            "Stitching image\n"
          ]
        },
        {
          "output_type": "stream",
          "name": "stderr",
          "text": [
            "\r 27%|██▋       | 3/11 [02:03<06:19, 47.40s/it]"
          ]
        },
        {
          "output_type": "stream",
          "name": "stdout",
          "text": [
            "input_img/DSC03175.jpg keypoint num: 1940\n",
            "matching feature\n",
            "Ransac\n",
            "Inliers / Total pairs: 174 / 245 ( 0.710204081632653 )\n",
            "Stitching image\n"
          ]
        },
        {
          "output_type": "stream",
          "name": "stderr",
          "text": [
            "\r 36%|███▋      | 4/11 [03:16<06:41, 57.38s/it]"
          ]
        },
        {
          "output_type": "stream",
          "name": "stdout",
          "text": [
            "input_img/DSC03176.jpg keypoint num: 1859\n",
            "matching feature\n",
            "Ransac\n",
            "Inliers / Total pairs: 165 / 247 ( 0.6680161943319838 )\n",
            "Stitching image\n"
          ]
        },
        {
          "output_type": "stream",
          "name": "stderr",
          "text": [
            "\r 45%|████▌     | 5/11 [04:34<06:28, 64.79s/it]"
          ]
        },
        {
          "output_type": "stream",
          "name": "stdout",
          "text": [
            "input_img/DSC03177.jpg keypoint num: 1446\n",
            "matching feature\n",
            "Ransac\n",
            "Inliers / Total pairs: 115 / 172 ( 0.6686046511627907 )\n",
            "Stitching image\n"
          ]
        },
        {
          "output_type": "stream",
          "name": "stderr",
          "text": [
            "\r 55%|█████▍    | 6/11 [05:41<05:28, 65.60s/it]"
          ]
        },
        {
          "output_type": "stream",
          "name": "stdout",
          "text": [
            "input_img/DSC03178.jpg keypoint num: 1032\n",
            "matching feature\n",
            "Ransac\n",
            "Inliers / Total pairs: 146 / 195 ( 0.7487179487179487 )\n",
            "Stitching image\n"
          ]
        },
        {
          "output_type": "stream",
          "name": "stderr",
          "text": [
            "\r 64%|██████▎   | 7/11 [06:32<04:02, 60.66s/it]"
          ]
        },
        {
          "output_type": "stream",
          "name": "stdout",
          "text": [
            "input_img/DSC03179.jpg keypoint num: 1288\n",
            "matching feature\n",
            "Ransac\n",
            "Inliers / Total pairs: 52 / 80 ( 0.65 )\n",
            "Stitching image\n"
          ]
        },
        {
          "output_type": "stream",
          "name": "stderr",
          "text": [
            "\r 73%|███████▎  | 8/11 [07:15<02:45, 55.22s/it]"
          ]
        },
        {
          "output_type": "stream",
          "name": "stdout",
          "text": [
            "input_img/DSC03180.jpg keypoint num: 1880\n",
            "matching feature\n",
            "Ransac\n",
            "Inliers / Total pairs: 95 / 162 ( 0.5864197530864198 )\n",
            "Stitching image\n"
          ]
        },
        {
          "output_type": "stream",
          "name": "stderr",
          "text": [
            "\r 82%|████████▏ | 9/11 [08:15<01:53, 56.54s/it]"
          ]
        },
        {
          "output_type": "stream",
          "name": "stdout",
          "text": [
            "input_img/DSC03181.jpg keypoint num: 2273\n",
            "matching feature\n",
            "Ransac\n",
            "Inliers / Total pairs: 167 / 324 ( 0.5154320987654321 )\n",
            "Stitching image\n"
          ]
        },
        {
          "output_type": "stream",
          "name": "stderr",
          "text": [
            "\r 91%|█████████ | 10/11 [09:42<01:06, 66.11s/it]"
          ]
        },
        {
          "output_type": "stream",
          "name": "stdout",
          "text": [
            "input_img/DSC03182.jpg keypoint num: 3594\n",
            "matching feature\n",
            "Ransac\n",
            "Inliers / Total pairs: 70 / 97 ( 0.7216494845360825 )\n",
            "Stitching image\n"
          ]
        },
        {
          "output_type": "stream",
          "name": "stderr",
          "text": [
            "100%|██████████| 11/11 [11:33<00:00, 63.07s/it]\n"
          ]
        },
        {
          "output_type": "execute_result",
          "data": {
            "text/plain": [
              "<matplotlib.image.AxesImage at 0x7f0000da83d0>"
            ]
          },
          "metadata": {},
          "execution_count": 117
        },
        {
          "output_type": "display_data",
          "data": {
            "text/plain": [
              "<Figure size 432x288 with 1 Axes>"
            ],
            "image/png": "[encoded data removed]"
          },
          "metadata": {
            "needs_background": "light"
          }
        }
      ]
    }
  ],
  "metadata": {
    "colab": {
      "machine_shape": "hm",
      "name": "image_matching.ipynb",
      "provenance": [],
      "collapsed_sections": []
    },
    "kernelspec": {
      "display_name": "Python 3",
      "name": "python3"
    },
    "language_info": {
      "name": "python"
    }
  },
  "nbformat": 4,
  "nbformat_minor": 0
}